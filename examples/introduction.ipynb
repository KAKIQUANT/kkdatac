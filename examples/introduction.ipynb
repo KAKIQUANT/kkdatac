{
 "cells": [
  {
   "cell_type": "code",
   "execution_count": 1,
   "metadata": {},
   "outputs": [],
   "source": [
    "import kkdatac"
   ]
  },
  {
   "cell_type": "code",
   "execution_count": 8,
   "metadata": {},
   "outputs": [],
   "source": [
    "query = \"\"\"SELECT\n",
    "    ts_code,\n",
    "    trade_date,\n",
    "    name,\n",
    "    pct_change\n",
    "FROM bak_daily\n",
    "WHERE ts_code = '600733.SH'\n",
    "AND name = '北汽蓝谷'\n",
    "ORDER BY trade_date ASC\n",
    "\"\"\""
   ]
  },
  {
   "cell_type": "code",
   "execution_count": 9,
   "metadata": {},
   "outputs": [
    {
     "name": "stderr",
     "output_type": "stream",
     "text": [
      "/Users/simonwsy/kakiquant_project/kkdatac/kkdatac/client.py:34: UserWarning: API key is not set. Using free version now. Some features may not be available.\n",
      "  warnings.warn(\"API key is not set. Using free version now. Some features may not be available.\")\n"
     ]
    },
    {
     "data": {
      "text/html": [
       "<div>\n",
       "<style scoped>\n",
       "    .dataframe tbody tr th:only-of-type {\n",
       "        vertical-align: middle;\n",
       "    }\n",
       "\n",
       "    .dataframe tbody tr th {\n",
       "        vertical-align: top;\n",
       "    }\n",
       "\n",
       "    .dataframe thead th {\n",
       "        text-align: right;\n",
       "    }\n",
       "</style>\n",
       "<table border=\"1\" class=\"dataframe\">\n",
       "  <thead>\n",
       "    <tr style=\"text-align: right;\">\n",
       "      <th></th>\n",
       "      <th>ts_code</th>\n",
       "      <th>trade_date</th>\n",
       "      <th>name</th>\n",
       "      <th>pct_change</th>\n",
       "    </tr>\n",
       "  </thead>\n",
       "  <tbody>\n",
       "    <tr>\n",
       "      <th>0</th>\n",
       "      <td>600733.SH</td>\n",
       "      <td>2018-09-27</td>\n",
       "      <td>北汽蓝谷</td>\n",
       "      <td>-36.88</td>\n",
       "    </tr>\n",
       "    <tr>\n",
       "      <th>1</th>\n",
       "      <td>600733.SH</td>\n",
       "      <td>2018-09-28</td>\n",
       "      <td>北汽蓝谷</td>\n",
       "      <td>10.00</td>\n",
       "    </tr>\n",
       "    <tr>\n",
       "      <th>2</th>\n",
       "      <td>600733.SH</td>\n",
       "      <td>2018-10-08</td>\n",
       "      <td>北汽蓝谷</td>\n",
       "      <td>3.35</td>\n",
       "    </tr>\n",
       "    <tr>\n",
       "      <th>3</th>\n",
       "      <td>600733.SH</td>\n",
       "      <td>2018-10-09</td>\n",
       "      <td>北汽蓝谷</td>\n",
       "      <td>8.33</td>\n",
       "    </tr>\n",
       "    <tr>\n",
       "      <th>4</th>\n",
       "      <td>600733.SH</td>\n",
       "      <td>2018-10-10</td>\n",
       "      <td>北汽蓝谷</td>\n",
       "      <td>-5.73</td>\n",
       "    </tr>\n",
       "    <tr>\n",
       "      <th>...</th>\n",
       "      <td>...</td>\n",
       "      <td>...</td>\n",
       "      <td>...</td>\n",
       "      <td>...</td>\n",
       "    </tr>\n",
       "    <tr>\n",
       "      <th>1423</th>\n",
       "      <td>600733.SH</td>\n",
       "      <td>2024-09-03</td>\n",
       "      <td>北汽蓝谷</td>\n",
       "      <td>2.87</td>\n",
       "    </tr>\n",
       "    <tr>\n",
       "      <th>1424</th>\n",
       "      <td>600733.SH</td>\n",
       "      <td>2024-09-04</td>\n",
       "      <td>北汽蓝谷</td>\n",
       "      <td>3.38</td>\n",
       "    </tr>\n",
       "    <tr>\n",
       "      <th>1425</th>\n",
       "      <td>600733.SH</td>\n",
       "      <td>2024-09-05</td>\n",
       "      <td>北汽蓝谷</td>\n",
       "      <td>-1.00</td>\n",
       "    </tr>\n",
       "    <tr>\n",
       "      <th>1426</th>\n",
       "      <td>600733.SH</td>\n",
       "      <td>2024-09-06</td>\n",
       "      <td>北汽蓝谷</td>\n",
       "      <td>1.87</td>\n",
       "    </tr>\n",
       "    <tr>\n",
       "      <th>1427</th>\n",
       "      <td>600733.SH</td>\n",
       "      <td>2024-09-09</td>\n",
       "      <td>北汽蓝谷</td>\n",
       "      <td>-4.51</td>\n",
       "    </tr>\n",
       "  </tbody>\n",
       "</table>\n",
       "<p>1428 rows × 4 columns</p>\n",
       "</div>"
      ],
      "text/plain": [
       "        ts_code trade_date  name  pct_change\n",
       "0     600733.SH 2018-09-27  北汽蓝谷      -36.88\n",
       "1     600733.SH 2018-09-28  北汽蓝谷       10.00\n",
       "2     600733.SH 2018-10-08  北汽蓝谷        3.35\n",
       "3     600733.SH 2018-10-09  北汽蓝谷        8.33\n",
       "4     600733.SH 2018-10-10  北汽蓝谷       -5.73\n",
       "...         ...        ...   ...         ...\n",
       "1423  600733.SH 2024-09-03  北汽蓝谷        2.87\n",
       "1424  600733.SH 2024-09-04  北汽蓝谷        3.38\n",
       "1425  600733.SH 2024-09-05  北汽蓝谷       -1.00\n",
       "1426  600733.SH 2024-09-06  北汽蓝谷        1.87\n",
       "1427  600733.SH 2024-09-09  北汽蓝谷       -4.51\n",
       "\n",
       "[1428 rows x 4 columns]"
      ]
     },
     "execution_count": 9,
     "metadata": {},
     "output_type": "execute_result"
    }
   ],
   "source": [
    "kkdatac.sql(query)"
   ]
  },
  {
   "cell_type": "code",
   "execution_count": null,
   "metadata": {},
   "outputs": [],
   "source": []
  }
 ],
 "metadata": {
  "kernelspec": {
   "display_name": "quant",
   "language": "python",
   "name": "python3"
  },
  "language_info": {
   "codemirror_mode": {
    "name": "ipython",
    "version": 3
   },
   "file_extension": ".py",
   "mimetype": "text/x-python",
   "name": "python",
   "nbconvert_exporter": "python",
   "pygments_lexer": "ipython3",
   "version": "3.10.14"
  }
 },
 "nbformat": 4,
 "nbformat_minor": 2
}
